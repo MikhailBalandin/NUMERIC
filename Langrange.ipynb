{
 "cells": [
  {
   "cell_type": "code",
   "execution_count": 1,
   "metadata": {},
   "outputs": [
    {
     "name": "stdout",
     "output_type": "stream",
     "text": [
      "0.22435897435897445\n"
     ]
    },
    {
     "data": {
      "image/png": "[encoded data removed]",
      "text/plain": [
       "<Figure size 432x288 with 1 Axes>"
      ]
     },
     "metadata": {
      "needs_background": "light"
     },
     "output_type": "display_data"
    }
   ],
   "source": [
    "#   М30-221Б-18\n",
    " #  Михаил Баландин\n",
    " #   Многочлен Лагранжа\n",
    " #  9 вариант\n",
    "\n",
    "\n",
    "\n",
    "\n",
    "from matplotlib import pyplot as plt\n",
    "\n",
    "\n",
    "Xa = [0.1, 0.5, 0.9, 1.3]\n",
    "Xb = [0.1, 0.5, 1.1, 1.3]\n",
    "\n",
    "Xasterisk = 0.8  # для проверки погрешности в этой точке\n",
    "\n",
    "\n",
    "def my_func(x):\n",
    "    return (1/x + x)\n",
    "\n",
    "\n",
    "def w_prime_exp(points, for_point):\n",
    "    product = 1\n",
    "    for index, point in enumerate(points):\n",
    "        if index != for_point:\n",
    "            product *= points[for_point] - point\n",
    "    return product\n",
    "\n",
    "\n",
    "def w_exp(points, for_point, x):\n",
    "    \"\"\"сразу деленное на  (x - xi)\"\"\"\n",
    "    product = 1\n",
    "    for index, point in enumerate(points):\n",
    "        if index != for_point:\n",
    "            product *= x - point\n",
    "    return product\n",
    "\n",
    "\n",
    "def lagrange_pol(func, points, x):\n",
    "    total = 0\n",
    "    for index, point in enumerate(points):\n",
    "        total += func(point) / w_prime_exp(points, index) * w_exp(points, index, x)\n",
    "    return total\n",
    "\n",
    "error = abs(lagrange_pol(my_func, Xa, Xasterisk) - my_func(Xasterisk))\n",
    "print(error)\n",
    "\n",
    "work_with = Xb  # заменить на Xb, если нужно\n",
    "xs = [0.1*x for x in range(1, 15)]\n",
    "my_ys = [lagrange_pol(my_func, work_with, x) for x in xs]\n",
    "true_ys = [my_func(x) for x in xs]\n",
    "\n",
    "plt.plot(xs, my_ys, label='my')\n",
    "plt.plot(xs, true_ys, label='true')\n",
    "plt.legend()\n",
    "plt.show()\n"
   ]
  },
  {
   "cell_type": "code",
   "execution_count": null,
   "metadata": {},
   "outputs": [],
   "source": []
  }
 ],
 "metadata": {
  "kernelspec": {
   "display_name": "Python 3",
   "language": "python",
   "name": "python3"
  },
  "language_info": {
   "codemirror_mode": {
    "name": "ipython",
    "version": 3
   },
   "file_extension": ".py",
   "mimetype": "text/x-python",
   "name": "python",
   "nbconvert_exporter": "python",
   "pygments_lexer": "ipython3",
   "version": "3.7.6"
  }
 },
 "nbformat": 4,
 "nbformat_minor": 4
}
